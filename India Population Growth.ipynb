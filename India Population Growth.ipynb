{
 "cells": [
  {
   "cell_type": "markdown",
   "id": "42d7c702-7761-4ffa-b7ac-0578ab38b65d",
   "metadata": {},
   "source": [
    "#  India's Population Growth [1960-2023]\n",
    "---"
   ]
  },
  {
   "cell_type": "markdown",
   "id": "129dac68-bfb4-49df-b42a-4ff97131f8e0",
   "metadata": {},
   "source": [
    "##  Task Introduction\n",
    "This is the first internship task assigned by SkillCraft Technology. The goal is to create a visualization (bar chart or histogram) that represents the distribution of a categorical or continuous variable. In this notebook, we focus on **India’s population growth from 1960 to 2023**, a continuous variable, and present it using a bar chart.\n",
    "\n",
    "---\n"
   ]
  },
  {
   "cell_type": "markdown",
   "id": "2aa0e223-a8bc-4ef8-84a1-1470354a24db",
   "metadata": {},
   "source": [
    "##  Objective\n",
    "- Load and clean population data from the World Bank dataset.\n",
    "- Filter for India’s population from 1960 to 2023.\n",
    "- Create a meaningful and clean visualization.\n",
    "- Extract insights and highlight key population milestones.\n",
    "\n",
    "---\n"
   ]
  },
  {
   "cell_type": "markdown",
   "id": "7b4d5d26-a775-4a88-a5e4-5081fa70fa11",
   "metadata": {},
   "source": [
    "##  Table of Contents\n",
    "1. [Importing Libraries](#1-importing-libraries)\n",
    "2. [Loading the Dataset](#2-load-the-dataset)\n",
    "3. [Filtering for India](#3-filter-for-india-only)\n",
    "4. [Reshaping the Data](#4-reshape-data-years-as-rows)\n",
    "5. [Plotting the Bar Chart](#5-plot-the-bar-chart)\n",
    "6. [Summary Statistics](#6-summary-statistics)\n",
    "7. [Plotting the Bar Chart](#7-plot-the-bar-chart)\n",
    "8. [Key Insights](#6-key-insights)\n",
    "9. [Conclusion](#7-conclusion)\n",
    "\n",
    "---"
   ]
  },
  {
   "cell_type": "markdown",
   "id": "19c80cef-186c-4ce9-9a72-19ee044b9cb8",
   "metadata": {},
   "source": [
    "### Importing the required Libraries\n",
    "\n",
    "In this block  we will import the required libraries for the task in hand.\n",
    "\n",
    " Required  libraries: `pandas` for data handling and `matplotlib.pyplot` for plotting the chart and `seaborn` for enhanced visuals.\n",
    "\n"
   ]
  },
  {
   "cell_type": "code",
   "execution_count": 1,
   "id": "abdbea59-dfe9-4514-972e-54f0d1066e20",
   "metadata": {},
   "outputs": [],
   "source": [
    "import pandas as pd\n",
    "import matplotlib.pyplot as plt\n",
    "import seaborn as sns"
   ]
  },
  {
   "cell_type": "markdown",
   "id": "de9bec5a-06ad-42db-90b6-1261d02d894e",
   "metadata": {},
   "source": [
    "### Load the datset\n",
    " Next we load the datset for furthur processing and visualization.\n",
    " \n",
    "Dataset Used:\"Metadata_Country_API_SP.POP.TOTL_DS2_en_csv_v2_131993.csv\""
   ]
  },
  {
   "cell_type": "code",
   "execution_count": 2,
   "id": "b3c04017-ba5a-46ef-963a-438bcf52d2f7",
   "metadata": {},
   "outputs": [
    {
     "name": "stdout",
     "output_type": "stream",
     "text": [
      "<class 'pandas.core.frame.DataFrame'>\n",
      "RangeIndex: 266 entries, 0 to 265\n",
      "Data columns (total 70 columns):\n",
      " #   Column          Non-Null Count  Dtype  \n",
      "---  ------          --------------  -----  \n",
      " 0   Country Name    266 non-null    object \n",
      " 1   Country Code    266 non-null    object \n",
      " 2   Indicator Name  266 non-null    object \n",
      " 3   Indicator Code  266 non-null    object \n",
      " 4   1960            264 non-null    float64\n",
      " 5   1961            264 non-null    float64\n",
      " 6   1962            264 non-null    float64\n",
      " 7   1963            264 non-null    float64\n",
      " 8   1964            264 non-null    float64\n",
      " 9   1965            264 non-null    float64\n",
      " 10  1966            264 non-null    float64\n",
      " 11  1967            264 non-null    float64\n",
      " 12  1968            264 non-null    float64\n",
      " 13  1969            264 non-null    float64\n",
      " 14  1970            264 non-null    float64\n",
      " 15  1971            264 non-null    float64\n",
      " 16  1972            264 non-null    float64\n",
      " 17  1973            264 non-null    float64\n",
      " 18  1974            264 non-null    float64\n",
      " 19  1975            264 non-null    float64\n",
      " 20  1976            264 non-null    float64\n",
      " 21  1977            264 non-null    float64\n",
      " 22  1978            264 non-null    float64\n",
      " 23  1979            264 non-null    float64\n",
      " 24  1980            264 non-null    float64\n",
      " 25  1981            264 non-null    float64\n",
      " 26  1982            264 non-null    float64\n",
      " 27  1983            264 non-null    float64\n",
      " 28  1984            264 non-null    float64\n",
      " 29  1985            264 non-null    float64\n",
      " 30  1986            264 non-null    float64\n",
      " 31  1987            264 non-null    float64\n",
      " 32  1988            264 non-null    float64\n",
      " 33  1989            264 non-null    float64\n",
      " 34  1990            265 non-null    float64\n",
      " 35  1991            265 non-null    float64\n",
      " 36  1992            265 non-null    float64\n",
      " 37  1993            265 non-null    float64\n",
      " 38  1994            265 non-null    float64\n",
      " 39  1995            265 non-null    float64\n",
      " 40  1996            265 non-null    float64\n",
      " 41  1997            265 non-null    float64\n",
      " 42  1998            265 non-null    float64\n",
      " 43  1999            265 non-null    float64\n",
      " 44  2000            265 non-null    float64\n",
      " 45  2001            265 non-null    float64\n",
      " 46  2002            265 non-null    float64\n",
      " 47  2003            265 non-null    float64\n",
      " 48  2004            265 non-null    float64\n",
      " 49  2005            265 non-null    float64\n",
      " 50  2006            265 non-null    float64\n",
      " 51  2007            265 non-null    float64\n",
      " 52  2008            265 non-null    float64\n",
      " 53  2009            265 non-null    float64\n",
      " 54  2010            265 non-null    float64\n",
      " 55  2011            265 non-null    float64\n",
      " 56  2012            265 non-null    float64\n",
      " 57  2013            265 non-null    float64\n",
      " 58  2014            265 non-null    float64\n",
      " 59  2015            265 non-null    float64\n",
      " 60  2016            265 non-null    float64\n",
      " 61  2017            265 non-null    float64\n",
      " 62  2018            265 non-null    float64\n",
      " 63  2019            265 non-null    float64\n",
      " 64  2020            265 non-null    float64\n",
      " 65  2021            265 non-null    float64\n",
      " 66  2022            265 non-null    float64\n",
      " 67  2023            265 non-null    float64\n",
      " 68  2024            0 non-null      float64\n",
      " 69  Unnamed: 69     0 non-null      float64\n",
      "dtypes: float64(66), object(4)\n",
      "memory usage: 145.6+ KB\n"
     ]
    },
    {
     "data": {
      "text/html": [
       "<div>\n",
       "<style scoped>\n",
       "    .dataframe tbody tr th:only-of-type {\n",
       "        vertical-align: middle;\n",
       "    }\n",
       "\n",
       "    .dataframe tbody tr th {\n",
       "        vertical-align: top;\n",
       "    }\n",
       "\n",
       "    .dataframe thead th {\n",
       "        text-align: right;\n",
       "    }\n",
       "</style>\n",
       "<table border=\"1\" class=\"dataframe\">\n",
       "  <thead>\n",
       "    <tr style=\"text-align: right;\">\n",
       "      <th></th>\n",
       "      <th>Country Name</th>\n",
       "      <th>Country Code</th>\n",
       "      <th>Indicator Name</th>\n",
       "      <th>Indicator Code</th>\n",
       "      <th>1960</th>\n",
       "      <th>1961</th>\n",
       "      <th>1962</th>\n",
       "      <th>1963</th>\n",
       "      <th>1964</th>\n",
       "      <th>1965</th>\n",
       "      <th>...</th>\n",
       "      <th>2016</th>\n",
       "      <th>2017</th>\n",
       "      <th>2018</th>\n",
       "      <th>2019</th>\n",
       "      <th>2020</th>\n",
       "      <th>2021</th>\n",
       "      <th>2022</th>\n",
       "      <th>2023</th>\n",
       "      <th>2024</th>\n",
       "      <th>Unnamed: 69</th>\n",
       "    </tr>\n",
       "  </thead>\n",
       "  <tbody>\n",
       "    <tr>\n",
       "      <th>0</th>\n",
       "      <td>Aruba</td>\n",
       "      <td>ABW</td>\n",
       "      <td>Population, total</td>\n",
       "      <td>SP.POP.TOTL</td>\n",
       "      <td>54922.0</td>\n",
       "      <td>55578.0</td>\n",
       "      <td>56320.0</td>\n",
       "      <td>57002.0</td>\n",
       "      <td>57619.0</td>\n",
       "      <td>58190.0</td>\n",
       "      <td>...</td>\n",
       "      <td>108727.0</td>\n",
       "      <td>108735.0</td>\n",
       "      <td>108908.0</td>\n",
       "      <td>109203.0</td>\n",
       "      <td>108587.0</td>\n",
       "      <td>107700.0</td>\n",
       "      <td>107310.0</td>\n",
       "      <td>107359.0</td>\n",
       "      <td>NaN</td>\n",
       "      <td>NaN</td>\n",
       "    </tr>\n",
       "    <tr>\n",
       "      <th>1</th>\n",
       "      <td>Africa Eastern and Southern</td>\n",
       "      <td>AFE</td>\n",
       "      <td>Population, total</td>\n",
       "      <td>SP.POP.TOTL</td>\n",
       "      <td>130072080.0</td>\n",
       "      <td>133534923.0</td>\n",
       "      <td>137171659.0</td>\n",
       "      <td>140945536.0</td>\n",
       "      <td>144904094.0</td>\n",
       "      <td>149033472.0</td>\n",
       "      <td>...</td>\n",
       "      <td>623369401.0</td>\n",
       "      <td>640058741.0</td>\n",
       "      <td>657801085.0</td>\n",
       "      <td>675950189.0</td>\n",
       "      <td>694446100.0</td>\n",
       "      <td>713090928.0</td>\n",
       "      <td>731821393.0</td>\n",
       "      <td>750503764.0</td>\n",
       "      <td>NaN</td>\n",
       "      <td>NaN</td>\n",
       "    </tr>\n",
       "    <tr>\n",
       "      <th>2</th>\n",
       "      <td>Afghanistan</td>\n",
       "      <td>AFG</td>\n",
       "      <td>Population, total</td>\n",
       "      <td>SP.POP.TOTL</td>\n",
       "      <td>9035043.0</td>\n",
       "      <td>9214083.0</td>\n",
       "      <td>9404406.0</td>\n",
       "      <td>9604487.0</td>\n",
       "      <td>9814318.0</td>\n",
       "      <td>10036008.0</td>\n",
       "      <td>...</td>\n",
       "      <td>34700612.0</td>\n",
       "      <td>35688935.0</td>\n",
       "      <td>36743039.0</td>\n",
       "      <td>37856121.0</td>\n",
       "      <td>39068979.0</td>\n",
       "      <td>40000412.0</td>\n",
       "      <td>40578842.0</td>\n",
       "      <td>41454761.0</td>\n",
       "      <td>NaN</td>\n",
       "      <td>NaN</td>\n",
       "    </tr>\n",
       "    <tr>\n",
       "      <th>3</th>\n",
       "      <td>Africa Western and Central</td>\n",
       "      <td>AFW</td>\n",
       "      <td>Population, total</td>\n",
       "      <td>SP.POP.TOTL</td>\n",
       "      <td>97630925.0</td>\n",
       "      <td>99706674.0</td>\n",
       "      <td>101854756.0</td>\n",
       "      <td>104089175.0</td>\n",
       "      <td>106388440.0</td>\n",
       "      <td>108772632.0</td>\n",
       "      <td>...</td>\n",
       "      <td>429454743.0</td>\n",
       "      <td>440882906.0</td>\n",
       "      <td>452195915.0</td>\n",
       "      <td>463365429.0</td>\n",
       "      <td>474569351.0</td>\n",
       "      <td>485920997.0</td>\n",
       "      <td>497387180.0</td>\n",
       "      <td>509398589.0</td>\n",
       "      <td>NaN</td>\n",
       "      <td>NaN</td>\n",
       "    </tr>\n",
       "    <tr>\n",
       "      <th>4</th>\n",
       "      <td>Angola</td>\n",
       "      <td>AGO</td>\n",
       "      <td>Population, total</td>\n",
       "      <td>SP.POP.TOTL</td>\n",
       "      <td>5231654.0</td>\n",
       "      <td>5301583.0</td>\n",
       "      <td>5354310.0</td>\n",
       "      <td>5408320.0</td>\n",
       "      <td>5464187.0</td>\n",
       "      <td>5521981.0</td>\n",
       "      <td>...</td>\n",
       "      <td>29183070.0</td>\n",
       "      <td>30234839.0</td>\n",
       "      <td>31297155.0</td>\n",
       "      <td>32375632.0</td>\n",
       "      <td>33451132.0</td>\n",
       "      <td>34532429.0</td>\n",
       "      <td>35635029.0</td>\n",
       "      <td>36749906.0</td>\n",
       "      <td>NaN</td>\n",
       "      <td>NaN</td>\n",
       "    </tr>\n",
       "  </tbody>\n",
       "</table>\n",
       "<p>5 rows × 70 columns</p>\n",
       "</div>"
      ],
      "text/plain": [
       "                  Country Name Country Code     Indicator Name Indicator Code  \\\n",
       "0                        Aruba          ABW  Population, total    SP.POP.TOTL   \n",
       "1  Africa Eastern and Southern          AFE  Population, total    SP.POP.TOTL   \n",
       "2                  Afghanistan          AFG  Population, total    SP.POP.TOTL   \n",
       "3   Africa Western and Central          AFW  Population, total    SP.POP.TOTL   \n",
       "4                       Angola          AGO  Population, total    SP.POP.TOTL   \n",
       "\n",
       "          1960         1961         1962         1963         1964  \\\n",
       "0      54922.0      55578.0      56320.0      57002.0      57619.0   \n",
       "1  130072080.0  133534923.0  137171659.0  140945536.0  144904094.0   \n",
       "2    9035043.0    9214083.0    9404406.0    9604487.0    9814318.0   \n",
       "3   97630925.0   99706674.0  101854756.0  104089175.0  106388440.0   \n",
       "4    5231654.0    5301583.0    5354310.0    5408320.0    5464187.0   \n",
       "\n",
       "          1965  ...         2016         2017         2018         2019  \\\n",
       "0      58190.0  ...     108727.0     108735.0     108908.0     109203.0   \n",
       "1  149033472.0  ...  623369401.0  640058741.0  657801085.0  675950189.0   \n",
       "2   10036008.0  ...   34700612.0   35688935.0   36743039.0   37856121.0   \n",
       "3  108772632.0  ...  429454743.0  440882906.0  452195915.0  463365429.0   \n",
       "4    5521981.0  ...   29183070.0   30234839.0   31297155.0   32375632.0   \n",
       "\n",
       "          2020         2021         2022         2023  2024  Unnamed: 69  \n",
       "0     108587.0     107700.0     107310.0     107359.0   NaN          NaN  \n",
       "1  694446100.0  713090928.0  731821393.0  750503764.0   NaN          NaN  \n",
       "2   39068979.0   40000412.0   40578842.0   41454761.0   NaN          NaN  \n",
       "3  474569351.0  485920997.0  497387180.0  509398589.0   NaN          NaN  \n",
       "4   33451132.0   34532429.0   35635029.0   36749906.0   NaN          NaN  \n",
       "\n",
       "[5 rows x 70 columns]"
      ]
     },
     "execution_count": 2,
     "metadata": {},
     "output_type": "execute_result"
    }
   ],
   "source": [
    "# Load the dataset\n",
    "df= pd.read_csv('API_SP.POP.TOTL_DS2_en_csv_v2_131993.csv', skiprows=4)\n",
    "\n",
    "# Basic Info\n",
    "df.info()\n",
    "\n",
    "# Display Dataset\n",
    "df.head()"
   ]
  },
  {
   "cell_type": "markdown",
   "id": "3116a90c-c306-4807-8ef1-847b2f098b5a",
   "metadata": {},
   "source": [
    "### Data Filtering\n",
    "\n",
    "Filters the dataset to include only rows for **India**.\n"
   ]
  },
  {
   "cell_type": "code",
   "execution_count": 3,
   "id": "05af3531-84c6-41c3-a7ed-6f62501299e2",
   "metadata": {},
   "outputs": [],
   "source": [
    "# Filter Data\n",
    "India_data = df[df['Country Name'] == 'India']"
   ]
  },
  {
   "cell_type": "markdown",
   "id": "5e342629-d08c-4842-bfab-9341b09a04c8",
   "metadata": {},
   "source": [
    "### Reshape Data\n",
    "\n",
    "Transforms the data so that each row corresponds to a year and its population. This is useful for plotting time-series data.\n"
   ]
  },
  {
   "cell_type": "code",
   "execution_count": 4,
   "id": "7233bf2f-3ab7-49de-8dbd-e53f7180268c",
   "metadata": {},
   "outputs": [],
   "source": [
    "# Reshape Data\n",
    "India_population = India_data.loc[:, '1960':'2023'].T\n",
    "India_population.columns = ['Population']\n",
    "India_population.index.name = 'Year'\n",
    "India_population.reset_index(inplace=True)\n",
    "India_population['Year'] = India_population['Year'].astype(int)"
   ]
  },
  {
   "cell_type": "markdown",
   "id": "6260e4b6-7a67-474d-803b-6a09ae56334c",
   "metadata": {},
   "source": [
    "### Data Overview\n",
    "\n",
    "Displays the first few rows of the cleaned dataset to give a quick overview of the structure and content.\n"
   ]
  },
  {
   "cell_type": "code",
   "execution_count": 5,
   "id": "e3c5a8ce-9a1e-4bad-9074-999de6a54b01",
   "metadata": {},
   "outputs": [
    {
     "data": {
      "text/html": [
       "<div>\n",
       "<style scoped>\n",
       "    .dataframe tbody tr th:only-of-type {\n",
       "        vertical-align: middle;\n",
       "    }\n",
       "\n",
       "    .dataframe tbody tr th {\n",
       "        vertical-align: top;\n",
       "    }\n",
       "\n",
       "    .dataframe thead th {\n",
       "        text-align: right;\n",
       "    }\n",
       "</style>\n",
       "<table border=\"1\" class=\"dataframe\">\n",
       "  <thead>\n",
       "    <tr style=\"text-align: right;\">\n",
       "      <th></th>\n",
       "      <th>Year</th>\n",
       "      <th>Population</th>\n",
       "    </tr>\n",
       "  </thead>\n",
       "  <tbody>\n",
       "    <tr>\n",
       "      <th>0</th>\n",
       "      <td>1960</td>\n",
       "      <td>435990338.0</td>\n",
       "    </tr>\n",
       "    <tr>\n",
       "      <th>1</th>\n",
       "      <td>1961</td>\n",
       "      <td>446564729.0</td>\n",
       "    </tr>\n",
       "    <tr>\n",
       "      <th>2</th>\n",
       "      <td>1962</td>\n",
       "      <td>457283090.0</td>\n",
       "    </tr>\n",
       "    <tr>\n",
       "      <th>3</th>\n",
       "      <td>1963</td>\n",
       "      <td>468138575.0</td>\n",
       "    </tr>\n",
       "    <tr>\n",
       "      <th>4</th>\n",
       "      <td>1964</td>\n",
       "      <td>479229598.0</td>\n",
       "    </tr>\n",
       "  </tbody>\n",
       "</table>\n",
       "</div>"
      ],
      "text/plain": [
       "   Year   Population\n",
       "0  1960  435990338.0\n",
       "1  1961  446564729.0\n",
       "2  1962  457283090.0\n",
       "3  1963  468138575.0\n",
       "4  1964  479229598.0"
      ]
     },
     "execution_count": 5,
     "metadata": {},
     "output_type": "execute_result"
    }
   ],
   "source": [
    "India_population.head()"
   ]
  },
  {
   "cell_type": "markdown",
   "id": "5eeabf63-9441-45cc-b202-3d3f80d04b81",
   "metadata": {},
   "source": [
    "### Summary Statistics\n",
    "\n",
    "Provides basic statistical insights like mean, min, max, and standard deviation of the population values.\n"
   ]
  },
  {
   "cell_type": "code",
   "execution_count": 6,
   "id": "1456a4a5-77c5-4803-a736-bd245f0cd068",
   "metadata": {},
   "outputs": [
    {
     "data": {
      "text/plain": [
       "count    6.400000e+01\n",
       "mean     9.120551e+08\n",
       "std      3.175137e+08\n",
       "min      4.359903e+08\n",
       "25%      6.222238e+08\n",
       "50%      8.934423e+08\n",
       "75%      1.194990e+09\n",
       "max      1.438070e+09\n",
       "Name: Population, dtype: float64"
      ]
     },
     "execution_count": 6,
     "metadata": {},
     "output_type": "execute_result"
    }
   ],
   "source": [
    "India_population['Population'].describe()"
   ]
  },
  {
   "cell_type": "markdown",
   "id": "c4cdc2d0-f6d5-4908-b193-a75365c0841e",
   "metadata": {},
   "source": [
    "### Plotting  Bar Chart \n",
    "\n",
    "Generates a bar chart that displays how India’s population has changed over time. Annotates the milestone where it crossed 1 billion.\n"
   ]
  },
  {
   "cell_type": "code",
   "execution_count": 7,
   "id": "d4781b97-b70c-498f-8596-28e4458c46f1",
   "metadata": {},
   "outputs": [
    {
     "data": {
      "image/png": "[encoded data removed]",
      "text/plain": [
       "<Figure size 1600x600 with 1 Axes>"
      ]
     },
     "metadata": {},
     "output_type": "display_data"
    }
   ],
   "source": [
    "plt.figure(figsize=(16, 6))\n",
    "plt.bar(India_population['Year'], India_population['Population'] / 1e9, color='skyblue')\n",
    "plt.title(\"India's Population Growth (1960–2023)\", fontsize=18, fontweight='bold')\n",
    "plt.xlabel(\"Year\", fontsize=12)\n",
    "plt.ylabel(\"Population (in Billions)\", fontsize=12)\n",
    "plt.xticks(rotation=45)\n",
    "plt.grid(axis='y', linestyle='--', alpha=0.7)"
   ]
  },
  {
   "cell_type": "code",
   "execution_count": 8,
   "id": "a5db48db-e0b4-499a-82bf-e5bca610513f",
   "metadata": {},
   "outputs": [
    {
     "data": {
      "image/png": "[encoded data removed]",
      "text/plain": [
       "<Figure size 640x480 with 1 Axes>"
      ]
     },
     "metadata": {},
     "output_type": "display_data"
    }
   ],
   "source": [
    "# Milestone Annotation\n",
    "milestone_year = 1998\n",
    "milestone_pop = India_population[India_population['Year'] == milestone_year]['Population'].values[0] / 1e9\n",
    "plt.text(milestone_year, milestone_pop + 0.02, 'Crossed 1 Billion', color='darkred', ha='center')\n",
    "plt.axvline(x=milestone_year, color='red', linestyle='--', alpha=0.7)\n",
    "plt.tight_layout()\n",
    "plt.show()\n"
   ]
  },
  {
   "cell_type": "code",
   "execution_count": 9,
   "id": "c7f4e3cf-9c8e-4735-be8c-de8163f75f74",
   "metadata": {},
   "outputs": [],
   "source": [
    "India_population.to_csv(\"India_Population_1960_2023.csv\", index=False)"
   ]
  },
  {
   "cell_type": "markdown",
   "id": "c2a988e1-2912-4e9f-8f74-c5584a7084a7",
   "metadata": {},
   "source": [
    "# VISUALIZATION"
   ]
  },
  {
   "cell_type": "markdown",
   "id": "83480bd3-2f71-49ce-8acb-c6d9b4dd178d",
   "metadata": {},
   "source": [
    "### Importing thhe dataset"
   ]
  },
  {
   "cell_type": "code",
   "execution_count": 11,
   "id": "55f617a7-5a1c-4669-a4d8-349f74c7bc23",
   "metadata": {},
   "outputs": [
    {
     "data": {
      "text/html": [
       "<div>\n",
       "<style scoped>\n",
       "    .dataframe tbody tr th:only-of-type {\n",
       "        vertical-align: middle;\n",
       "    }\n",
       "\n",
       "    .dataframe tbody tr th {\n",
       "        vertical-align: top;\n",
       "    }\n",
       "\n",
       "    .dataframe thead th {\n",
       "        text-align: right;\n",
       "    }\n",
       "</style>\n",
       "<table border=\"1\" class=\"dataframe\">\n",
       "  <thead>\n",
       "    <tr style=\"text-align: right;\">\n",
       "      <th></th>\n",
       "      <th>Year</th>\n",
       "      <th>Population</th>\n",
       "    </tr>\n",
       "  </thead>\n",
       "  <tbody>\n",
       "    <tr>\n",
       "      <th>0</th>\n",
       "      <td>1960</td>\n",
       "      <td>435990338.0</td>\n",
       "    </tr>\n",
       "    <tr>\n",
       "      <th>1</th>\n",
       "      <td>1961</td>\n",
       "      <td>446564729.0</td>\n",
       "    </tr>\n",
       "    <tr>\n",
       "      <th>2</th>\n",
       "      <td>1962</td>\n",
       "      <td>457283090.0</td>\n",
       "    </tr>\n",
       "    <tr>\n",
       "      <th>3</th>\n",
       "      <td>1963</td>\n",
       "      <td>468138575.0</td>\n",
       "    </tr>\n",
       "    <tr>\n",
       "      <th>4</th>\n",
       "      <td>1964</td>\n",
       "      <td>479229598.0</td>\n",
       "    </tr>\n",
       "  </tbody>\n",
       "</table>\n",
       "</div>"
      ],
      "text/plain": [
       "   Year   Population\n",
       "0  1960  435990338.0\n",
       "1  1961  446564729.0\n",
       "2  1962  457283090.0\n",
       "3  1963  468138575.0\n",
       "4  1964  479229598.0"
      ]
     },
     "execution_count": 11,
     "metadata": {},
     "output_type": "execute_result"
    }
   ],
   "source": [
    "import pandas as pd\n",
    "\n",
    "# Load your dataset (make sure the file is in the same folder as your notebook)\n",
    "df = pd.read_csv(\"India_Population_1960_2023.csv\")\n",
    "df.head()\n"
   ]
  },
  {
   "cell_type": "markdown",
   "id": "4ba78cc8-5f70-44c7-822d-98f7a17a1934",
   "metadata": {},
   "source": [
    "### Data Cleaning"
   ]
  },
  {
   "cell_type": "code",
   "execution_count": 22,
   "id": "330e320e-093e-4e17-acfc-c5b4a7d8ad07",
   "metadata": {},
   "outputs": [
    {
     "name": "stdout",
     "output_type": "stream",
     "text": [
      "<class 'pandas.core.frame.DataFrame'>\n",
      "RangeIndex: 64 entries, 0 to 63\n",
      "Data columns (total 3 columns):\n",
      " #   Column       Non-Null Count  Dtype  \n",
      "---  ------       --------------  -----  \n",
      " 0   Year         64 non-null     int64  \n",
      " 1   Population   64 non-null     float64\n",
      " 2   Growth_Rate  63 non-null     float64\n",
      "dtypes: float64(2), int64(1)\n",
      "memory usage: 1.6 KB\n"
     ]
    },
    {
     "data": {
      "text/plain": [
       "Year           0\n",
       "Population     0\n",
       "Growth_Rate    1\n",
       "dtype: int64"
      ]
     },
     "execution_count": 22,
     "metadata": {},
     "output_type": "execute_result"
    }
   ],
   "source": [
    "# Check for nulls\n",
    "df.info()\n",
    "df.isnull().sum()\n"
   ]
  },
  {
   "cell_type": "markdown",
   "id": "6e5ad560-4a36-4d5a-ba5e-bf9215449652",
   "metadata": {},
   "source": [
    "### Visualization"
   ]
  },
  {
   "cell_type": "code",
   "execution_count": 20,
   "id": "1d5d7c07-e27b-4666-92d3-d29af9f072ed",
   "metadata": {},
   "outputs": [
    {
     "name": "stderr",
     "output_type": "stream",
     "text": [
      "C:\\Users\\Dell\\anaconda3\\Lib\\site-packages\\seaborn\\_oldcore.py:1119: FutureWarning: use_inf_as_na option is deprecated and will be removed in a future version. Convert inf values to NaN before operating instead.\n",
      "  with pd.option_context('mode.use_inf_as_na', True):\n",
      "C:\\Users\\Dell\\anaconda3\\Lib\\site-packages\\seaborn\\_oldcore.py:1119: FutureWarning: use_inf_as_na option is deprecated and will be removed in a future version. Convert inf values to NaN before operating instead.\n",
      "  with pd.option_context('mode.use_inf_as_na', True):\n"
     ]
    },
    {
     "data": {
      "image/png": "[encoded data removed]",
      "text/plain": [
       "<Figure size 1200x600 with 1 Axes>"
      ]
     },
     "metadata": {},
     "output_type": "display_data"
    }
   ],
   "source": [
    "import matplotlib.pyplot as plt\n",
    "import seaborn as sns\n",
    "\n",
    "plt.figure(figsize=(12,6))\n",
    "sns.lineplot(x='Year', y='Population', data=df, marker='o', color='orange')\n",
    "plt.title(\"India's Population Growth (1960–2023)\", fontsize=16)\n",
    "plt.xlabel(\"Year\")\n",
    "plt.ylabel(\"Population\")\n",
    "plt.grid(True)\n",
    "plt.tight_layout()\n",
    "plt.show()\n"
   ]
  },
  {
   "cell_type": "code",
   "execution_count": 18,
   "id": "3e852894-647d-424b-82df-a1eecc87ede8",
   "metadata": {},
   "outputs": [
    {
     "data": {
      "text/html": [
       "<div>\n",
       "<style scoped>\n",
       "    .dataframe tbody tr th:only-of-type {\n",
       "        vertical-align: middle;\n",
       "    }\n",
       "\n",
       "    .dataframe tbody tr th {\n",
       "        vertical-align: top;\n",
       "    }\n",
       "\n",
       "    .dataframe thead th {\n",
       "        text-align: right;\n",
       "    }\n",
       "</style>\n",
       "<table border=\"1\" class=\"dataframe\">\n",
       "  <thead>\n",
       "    <tr style=\"text-align: right;\">\n",
       "      <th></th>\n",
       "      <th>Year</th>\n",
       "      <th>Population</th>\n",
       "      <th>Growth_Rate</th>\n",
       "    </tr>\n",
       "  </thead>\n",
       "  <tbody>\n",
       "    <tr>\n",
       "      <th>59</th>\n",
       "      <td>2019</td>\n",
       "      <td>1.389030e+09</td>\n",
       "      <td>1.045441</td>\n",
       "    </tr>\n",
       "    <tr>\n",
       "      <th>60</th>\n",
       "      <td>2020</td>\n",
       "      <td>1.402618e+09</td>\n",
       "      <td>0.978192</td>\n",
       "    </tr>\n",
       "    <tr>\n",
       "      <th>61</th>\n",
       "      <td>2021</td>\n",
       "      <td>1.414204e+09</td>\n",
       "      <td>0.826041</td>\n",
       "    </tr>\n",
       "    <tr>\n",
       "      <th>62</th>\n",
       "      <td>2022</td>\n",
       "      <td>1.425423e+09</td>\n",
       "      <td>0.793331</td>\n",
       "    </tr>\n",
       "    <tr>\n",
       "      <th>63</th>\n",
       "      <td>2023</td>\n",
       "      <td>1.438070e+09</td>\n",
       "      <td>0.887202</td>\n",
       "    </tr>\n",
       "  </tbody>\n",
       "</table>\n",
       "</div>"
      ],
      "text/plain": [
       "    Year    Population  Growth_Rate\n",
       "59  2019  1.389030e+09     1.045441\n",
       "60  2020  1.402618e+09     0.978192\n",
       "61  2021  1.414204e+09     0.826041\n",
       "62  2022  1.425423e+09     0.793331\n",
       "63  2023  1.438070e+09     0.887202"
      ]
     },
     "execution_count": 18,
     "metadata": {},
     "output_type": "execute_result"
    }
   ],
   "source": [
    "#Calculating growth rate\n",
    "df['Growth_Rate'] = df['Population'].pct_change() * 100\n",
    "df[['Year', 'Population', 'Growth_Rate']].tail()\n"
   ]
  },
  {
   "cell_type": "markdown",
   "id": "904c12a3-59ee-4dcc-93cd-c679a6fa08b5",
   "metadata": {},
   "source": [
    "## Key Insights\n",
    "\n",
    " - India’s population grew from ~0.45B in 1960 to ~1.44B in 2023\n",
    " - Fastest growth occurred between 1980s to 2000s\n",
    " - Crossed 1 billion milestone around 1998\n",
    " - Growth appears to be slowing down slightly in recent years\n",
    " - India has surpassed China as the most populous country in 2023\n"
   ]
  },
  {
   "cell_type": "markdown",
   "id": "90d00738-c3d5-45e5-bcd1-0e89f07608f1",
   "metadata": {},
   "source": [
    "## Conclusion\n",
    "\n",
    "- This chart shows how India’s population has grown explosively over the decades,\n",
    "\n",
    "- underlining key demographic trends that carry massive implications for economics, urban planning,\n",
    "\n",
    "- healthcare, and education. With signs of slowing growth, India enters a new demographic chapter."
   ]
  },
  {
   "cell_type": "code",
   "execution_count": null,
   "id": "3295f492-8328-40d8-92f0-836c06cd7208",
   "metadata": {},
   "outputs": [],
   "source": []
  }
 ],
 "metadata": {
  "kernelspec": {
   "display_name": "Python 3 (ipykernel)",
   "language": "python",
   "name": "python3"
  },
  "language_info": {
   "codemirror_mode": {
    "name": "ipython",
    "version": 3
   },
   "file_extension": ".py",
   "mimetype": "text/x-python",
   "name": "python",
   "nbconvert_exporter": "python",
   "pygments_lexer": "ipython3",
   "version": "3.11.7"
  }
 },
 "nbformat": 4,
 "nbformat_minor": 5
}
